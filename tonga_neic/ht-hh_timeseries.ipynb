{
 "cells": [
  {
   "cell_type": "markdown",
   "id": "latest-woman",
   "metadata": {},
   "source": [
    "### Magnitude timeseries for Hunga Tonga - Hunga Ha'apai\n",
    "\n",
    "For NEIC query at https://earthquake.usgs.gov/earthquakes/search/\n",
    "\n",
    "north = -20, south = -21.3, west = -176.2, east = -175 and max depth = 50"
   ]
  },
  {
   "cell_type": "code",
   "execution_count": null,
   "id": "enhanced-wyoming",
   "metadata": {},
   "outputs": [],
   "source": [
    "import pandas as pd\n",
    "import matplotlib.pyplot as plt\n",
    "import datetime as dt"
   ]
  },
  {
   "cell_type": "code",
   "execution_count": null,
   "id": "surprising-lobby",
   "metadata": {},
   "outputs": [],
   "source": [
    "df = pd.read_csv('query.csv', parse_dates=True, index_col='time')"
   ]
  },
  {
   "cell_type": "code",
   "execution_count": null,
   "id": "enabling-environment",
   "metadata": {},
   "outputs": [],
   "source": [
    "df.head()"
   ]
  },
  {
   "cell_type": "code",
   "execution_count": null,
   "id": "surgical-violence",
   "metadata": {},
   "outputs": [],
   "source": [
    "now = dt.datetime.utcnow().strftime(\"%Y-%m-%d %H:%M UTC\")"
   ]
  },
  {
   "cell_type": "code",
   "execution_count": null,
   "id": "parliamentary-practitioner",
   "metadata": {},
   "outputs": [],
   "source": [
    "fig,ax = plt.subplots(1,1, figsize=(15,5))\n",
    "df['mag'].plot(ax=ax, linestyle='none', marker='o', color='cornflowerblue', label='earthquake')\n",
    "ax.vlines(df.index, 4.3, df['mag'], color='cornflowerblue')\n",
    "\n",
    "ax.set_ylim(bottom=4.3)\n",
    "ax.set_xlim(left=dt.datetime(2022,1,13))\n",
    "\n",
    "ax.set_ylabel('Magnitude (mb, except eruption)')\n",
    "ax.set_xlabel('Date (UTC)')\n",
    "ax.axvline(dt.datetime(2022,1,15,4,14,45), linestyle='--', color='firebrick', label='eruption')\n",
    "ax.legend(loc='best')\n",
    "ax.grid(linestyle='--', alpha=0.4)\n",
    "\n",
    "props = dict(boxstyle='round', facecolor='darksalmon', alpha=0.2)\n",
    "ax.text(dt.datetime(2022,1,13,5,0), 4.8,'Estimated to contain 80%\\n of all events M$\\geq$4.6',\n",
    "     ha='left', va='bottom',\n",
    "     bbox=props)\n",
    "\n",
    "ax.axhline(4.6, linestyle='--', color='darksalmon', alpha=0.5)\n",
    "\n",
    "\n",
    "ax.set_title('USGS NEIC earthquake magnitudes in vicinity of HT-HH since 2022 January, at '+now, loc='left')\n",
    "\n",
    "plt.savefig('ht-hh_neic_magnitude-time.png', dpi=200, facecolor='white')"
   ]
  }
 ],
 "metadata": {
  "kernelspec": {
   "display_name": "Python 3",
   "language": "python",
   "name": "python3"
  },
  "language_info": {
   "codemirror_mode": {
    "name": "ipython",
    "version": 3
   },
   "file_extension": ".py",
   "mimetype": "text/x-python",
   "name": "python",
   "nbconvert_exporter": "python",
   "pygments_lexer": "ipython3",
   "version": "3.7.8"
  }
 },
 "nbformat": 4,
 "nbformat_minor": 5
}
