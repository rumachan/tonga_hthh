{
 "cells": [
  {
   "cell_type": "markdown",
   "id": "complimentary-initial",
   "metadata": {},
   "source": [
    "# GeoNet news story on eruption at HT-HH"
   ]
  },
  {
   "cell_type": "code",
   "execution_count": null,
   "id": "medical-forward",
   "metadata": {},
   "outputs": [],
   "source": [
    "from obspy.core import UTCDateTime\n",
    "from obspy.clients.fdsn import Client\n",
    "import obspy\n",
    "from obspy.signal.detrend import polynomial\n",
    "\n",
    "import matplotlib.pyplot as plt\n",
    "import matplotlib.dates as mdates\n",
    "\n",
    "import datetime as dt"
   ]
  },
  {
   "cell_type": "code",
   "execution_count": null,
   "id": "friendly-thumb",
   "metadata": {},
   "outputs": [],
   "source": [
    "client = Client('http://service-nrt.geonet.org.nz')"
   ]
  },
  {
   "cell_type": "code",
   "execution_count": null,
   "id": "raised-leeds",
   "metadata": {},
   "outputs": [],
   "source": [
    "t = UTCDateTime(\"2022-01-15T03:45:00\")\n",
    "tint = 60 * 60 * 12"
   ]
  },
  {
   "cell_type": "markdown",
   "id": "equipped-scout",
   "metadata": {},
   "source": [
    "### Air pressure COVZ"
   ]
  },
  {
   "cell_type": "code",
   "execution_count": null,
   "id": "normal-production",
   "metadata": {},
   "outputs": [],
   "source": [
    "sta = client.get_waveforms(\"NZ\", \"COVZ\", \"30\", \"HDF\", t, t + tint, attach_response=True)\n",
    "tra = sta[0]"
   ]
  },
  {
   "cell_type": "code",
   "execution_count": null,
   "id": "collective-apartment",
   "metadata": {},
   "outputs": [],
   "source": [
    "tra.stats.starttime+=13*60*60 #add 13 hours to convert to NZDT"
   ]
  },
  {
   "cell_type": "code",
   "execution_count": null,
   "id": "moderate-parking",
   "metadata": {},
   "outputs": [],
   "source": [
    "gaina = tra.stats.response.instrument_sensitivity.value"
   ]
  },
  {
   "cell_type": "code",
   "execution_count": null,
   "id": "matched-lunch",
   "metadata": {},
   "outputs": [],
   "source": [
    "tra.data = 600 + tra.data/gaina #divide out gain and add 600 hPa offset"
   ]
  },
  {
   "cell_type": "code",
   "execution_count": null,
   "id": "helpful-balloon",
   "metadata": {},
   "outputs": [],
   "source": [
    "meantra = tra.data.mean()\n",
    "tra.data -= meantra"
   ]
  },
  {
   "cell_type": "code",
   "execution_count": null,
   "id": "floating-genealogy",
   "metadata": {},
   "outputs": [],
   "source": [
    "print (tra.data.min(), tra.data.max()) #units hPa\n",
    "print ('peak-to-trough')\n",
    "print (tra.data.max() - tra.data.min())"
   ]
  },
  {
   "cell_type": "code",
   "execution_count": null,
   "id": "pressing-blackberry",
   "metadata": {},
   "outputs": [],
   "source": [
    "tra.plot()"
   ]
  },
  {
   "cell_type": "markdown",
   "id": "plain-above",
   "metadata": {},
   "source": [
    "### Seismic"
   ]
  },
  {
   "cell_type": "code",
   "execution_count": null,
   "id": "broken-philip",
   "metadata": {},
   "outputs": [],
   "source": [
    "sts = client.get_waveforms(\"NZ\", \"COVZ\", \"10\", \"HHZ\", t, t + tint, attach_response=True)\n",
    "trs = sts[0]"
   ]
  },
  {
   "cell_type": "code",
   "execution_count": null,
   "id": "american-oxide",
   "metadata": {},
   "outputs": [],
   "source": [
    "trs.stats.starttime+=13*60*60 #add 13 hours to convert to NZDT"
   ]
  },
  {
   "cell_type": "code",
   "execution_count": null,
   "id": "visible-rocket",
   "metadata": {},
   "outputs": [],
   "source": [
    "gains = trs.stats.response.instrument_sensitivity.value"
   ]
  },
  {
   "cell_type": "code",
   "execution_count": null,
   "id": "perfect-specific",
   "metadata": {},
   "outputs": [],
   "source": [
    "trs.data = (trs.data / gains) * 1e9 #nm/s\n",
    "# trs.remove_response()"
   ]
  },
  {
   "cell_type": "code",
   "execution_count": null,
   "id": "visible-collectible",
   "metadata": {},
   "outputs": [],
   "source": [
    "meantrs = trs.data.mean()\n",
    "trs.data -= meantrs"
   ]
  },
  {
   "cell_type": "code",
   "execution_count": null,
   "id": "civilian-distance",
   "metadata": {},
   "outputs": [],
   "source": [
    "trs.plot()"
   ]
  },
  {
   "cell_type": "code",
   "execution_count": null,
   "id": "freelance-sympathy",
   "metadata": {},
   "outputs": [],
   "source": [
    "trsfilt = trs.copy()"
   ]
  },
  {
   "cell_type": "code",
   "execution_count": null,
   "id": "jewish-convergence",
   "metadata": {},
   "outputs": [],
   "source": [
    "trsfilt.filter('lowpass', freq=0.05, corners=2)"
   ]
  },
  {
   "cell_type": "code",
   "execution_count": null,
   "id": "built-potato",
   "metadata": {},
   "outputs": [],
   "source": [
    "trsfilt.plot()"
   ]
  },
  {
   "cell_type": "markdown",
   "id": "revised-silence",
   "metadata": {},
   "source": [
    "### Coastal sea level GIST"
   ]
  },
  {
   "cell_type": "code",
   "execution_count": null,
   "id": "honey-there",
   "metadata": {},
   "outputs": [],
   "source": [
    "stc = client.get_waveforms(\"NZ\", \"GIST\", \"40\", \"LTZ\", t, t + tint, attach_response=True)\n",
    "trc = stc[0]"
   ]
  },
  {
   "cell_type": "code",
   "execution_count": null,
   "id": "anonymous-percentage",
   "metadata": {},
   "outputs": [],
   "source": [
    "trc.stats.starttime+=13*60*60 #add 13 hours to convert to NZDT"
   ]
  },
  {
   "cell_type": "code",
   "execution_count": null,
   "id": "passive-alias",
   "metadata": {},
   "outputs": [],
   "source": [
    "gainc = trc.stats.response.instrument_sensitivity.value\n",
    "gainc"
   ]
  },
  {
   "cell_type": "code",
   "execution_count": null,
   "id": "together-charge",
   "metadata": {},
   "outputs": [],
   "source": [
    "trc.data = trc.data/gainc"
   ]
  },
  {
   "cell_type": "code",
   "execution_count": null,
   "id": "earlier-freight",
   "metadata": {},
   "outputs": [],
   "source": [
    "polynomial(trc.data, order=3) #modified in place"
   ]
  },
  {
   "cell_type": "code",
   "execution_count": null,
   "id": "individual-tractor",
   "metadata": {},
   "outputs": [],
   "source": [
    "trc.plot()"
   ]
  },
  {
   "cell_type": "code",
   "execution_count": null,
   "id": "friendly-flooring",
   "metadata": {},
   "outputs": [],
   "source": [
    "# trc_filt = trc.copy()\n",
    "# trc_filt.detrend(type='linear')\n",
    "# # trc_filt.filter('lowpass', freq=0.01, corners=2, zerophase=True)\n",
    "# trc_filt.plot()"
   ]
  },
  {
   "cell_type": "markdown",
   "id": "institutional-ocean",
   "metadata": {},
   "source": [
    "### Visualize THIS IS IN NZDT"
   ]
  },
  {
   "cell_type": "code",
   "execution_count": null,
   "id": "according-threshold",
   "metadata": {},
   "outputs": [],
   "source": [
    "fig,(axs, axa,axc) = plt.subplots(nrows=3, ncols=1, figsize=(20,12))\n",
    "plt.subplots_adjust(hspace=0.1)\n",
    "\n",
    "#seismic wave ).05 Hz LP filtered version so cleaner signal\n",
    "axs.plot(trsfilt.times(\"matplotlib\"), trsfilt.data, color='slategrey')\n",
    "axs.xaxis_date()\n",
    "axs.set_xticks([])\n",
    "axs.set_ylim(bottom=trsfilt.data.min(), top=trsfilt.data.max())\n",
    "\n",
    "axs.text(dt.datetime(2022,1,15,19,10), -5000, 'first arrival after about 4 minutes', fontsize=14, color='slategrey', va='bottom', ha='left')\n",
    "\n",
    "\n",
    "axs.axvline(dt.datetime(2022,1,15,17,8),linestyle='--', color='firebrick')\n",
    "axs.text(dt.datetime(2022,1,15,17,8), 2000, '5:08 PM', color='dimgray', va='bottom', ha='right', fontsize=14, rotation=90)\n",
    "axs.text(dt.datetime(2022,1,15,17,8), -7500, 'eruption start', color='dimgray', va='bottom', ha='right', fontsize=14, rotation=90)\n",
    "\n",
    "#volcano image, can't work in data coordinates as having issue with datetime, fudge exis coordinates so it look okay\n",
    "image = plt.imread('volcano.png', format='png')\n",
    "axin = axs.inset_axes([-0.022,1.02, .2, .2])\n",
    "axin.imshow(image)\n",
    "axin.axis('off')\n",
    "\n",
    "axs.text(dt.datetime(2022,1,16,4,45), 6000, 'Earthquake ground wave \\n central North Island (lowpass filter 20 s)', color='slategrey', ha='right',  va='top', fontsize=20)\n",
    "axs.set_ylabel('Ground velocity (nano-m/s)')\n",
    "\n",
    "#air pressure wave\n",
    "axa.plot(tra.times(\"matplotlib\"), tra.data, color='cornflowerblue')\n",
    "axa.xaxis_date()\n",
    "axa.set_xticks([])\n",
    "axa.set_ylim(bottom=tra.data.min(), top=tra.data.max())\n",
    "\n",
    "axa.axvline(dt.datetime(2022,1,15,17,8),linestyle='--', color='firebrick')\n",
    "# axa.text(dt.datetime(2022,1,15,17,8), 3.7, 'E', color='firebrick', ha='center', fontsize=20)\n",
    "\n",
    "axa.axvline(dt.datetime(2022,1,15,19,0),linestyle='--', color='grey')\n",
    "axa.text(dt.datetime(2022,1,15,19,0), -2, '7 PM', color='dimgray', va='bottom', ha='right', fontsize=14, rotation=90)\n",
    "axa.text(dt.datetime(2022,1,15,19,0), 0.2, 'first arrival', color='dimgray', va='bottom', ha='right', fontsize=14, rotation=90)\n",
    "\n",
    "axa.text(dt.datetime(2022,1,16,4,45), 2.5, 'Air pressure wave in atmosphere\\n central North Island', color='cornflowerblue', ha='right',  va='top', fontsize=20)\n",
    "\n",
    "axa.set_ylabel('Air pressure change (hPa)')\n",
    "\n",
    "#tsunami wave\n",
    "axc.plot(trc.times(\"matplotlib\"), trc.data, color='blue')\n",
    "axc.xaxis_date()\n",
    "axc.axvline(dt.datetime(2022,1,15,17,10),linestyle='--', color='firebrick')\n",
    "\n",
    "axc.axvline(dt.datetime(2022,1,15,20,0),linestyle='--', color='grey')\n",
    "axc.text(dt.datetime(2022,1,15,20,0), -0.7, '8 PM', color='dimgray', va='bottom', ha='right', fontsize=14, rotation=90)\n",
    "axc.text(dt.datetime(2022,1,15,20,0), 0.4, 'first\\n arrival', color='dimgray', va='bottom', ha='right', fontsize=14, rotation=90)\n",
    "\n",
    "axc.set_ylabel('Wave height (m)')\n",
    "axc.set_yticks([-1, -0.5, 0, 0.5, 1])\n",
    "\n",
    "axc.text(dt.datetime(2022,1,15,21,0), 0.95, 'Tsunami wave in ocean\\nat Gisborne', color='blue', ha='left',  va='top', fontsize=20)\n",
    "\n",
    "plt.suptitle('GeoNet Recording the Tonga Eruption in Aotearoa/New Zealand, 2022 January 15', y=0.95, fontsize=20)\n",
    "axs.set_title('Data source: https://www.geonet.org.nz/data/tools/FDSN', y=1.05, fontsize=16, color='grey')\n",
    "\n",
    "plt.savefig('tonga_impact.png', facecolor='white', dpi=300, bbox_inches='tight')\n"
   ]
  }
 ],
 "metadata": {
  "kernelspec": {
   "display_name": "Python 3",
   "language": "python",
   "name": "python3"
  },
  "language_info": {
   "codemirror_mode": {
    "name": "ipython",
    "version": 3
   },
   "file_extension": ".py",
   "mimetype": "text/x-python",
   "name": "python",
   "nbconvert_exporter": "python",
   "pygments_lexer": "ipython3",
   "version": "3.7.8"
  }
 },
 "nbformat": 4,
 "nbformat_minor": 5
}
